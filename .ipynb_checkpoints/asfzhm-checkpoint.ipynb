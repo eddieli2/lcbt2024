{
 "cells": [
  {
   "cell_type": "code",
   "execution_count": 1,
   "id": "dff4aa3e-0001-403c-baf0-1c9fae375fd5",
   "metadata": {},
   "outputs": [],
   "source": [
    "import pandas as pd\n",
    "import os\n",
    "import sys"
   ]
  },
  {
   "cell_type": "code",
   "execution_count": 2,
   "id": "146274e9-6d6d-4cc5-98f7-8bab7c5d378f",
   "metadata": {},
   "outputs": [],
   "source": [
    "df_sfz=pd.read_excel(\"C:\\\\lishan\\\\venv_and_code\\\\lcbt2024\\\\data\\\\处理结果.xlsx\",dtype=object)"
   ]
  },
  {
   "cell_type": "code",
   "execution_count": 3,
   "id": "c5d30f5d-89a0-4ea4-8e28-e91537e9c9f8",
   "metadata": {},
   "outputs": [
    {
     "data": {
      "text/plain": [
       "Index(['合同号', '客户身份证号码', '客户姓名名称', '贷款业务品种', '贷款发放额度', '户籍所在地', '户籍地址',\n",
       "       '利率浮动值', '是否执行先收后返', '贷款执行利率', '2022年12月末', '2023年1月末', '2023年2月末',\n",
       "       '2023年3月末', '2023年4月末', '2023年5月末', '2023年6月末', '2023年7月末', '2023年8月末',\n",
       "       '2023年9月末', '2023年10月末', '2023年11月末', '2023年12月末', '全年贷款平均余额',\n",
       "       '上年度的贷款利差补贴', '实际获得金额', '贷款品种五级', '额度合同号'],\n",
       "      dtype='object')"
      ]
     },
     "execution_count": 3,
     "metadata": {},
     "output_type": "execute_result"
    }
   ],
   "source": [
    "df_sfz.columns"
   ]
  },
  {
   "cell_type": "code",
   "execution_count": 4,
   "id": "9440d186-0016-408c-a786-6e600d42786c",
   "metadata": {},
   "outputs": [
    {
     "data": {
      "text/plain": [
       "False"
      ]
     },
     "execution_count": 4,
     "metadata": {},
     "output_type": "execute_result"
    }
   ],
   "source": [
    "df_sfz[\"客户身份证号码\"].is_unique"
   ]
  },
  {
   "cell_type": "code",
   "execution_count": 5,
   "id": "598f8641-e46f-43fd-aa4f-eb748ce2366c",
   "metadata": {},
   "outputs": [],
   "source": [
    "ser=df_sfz[\"客户身份证号码\"].unique()\n",
    "ls_sfz=ser.tolist()\n",
    "#完成了身份证号码的列表的构造，并且其中不好任何重复值。"
   ]
  },
  {
   "cell_type": "code",
   "execution_count": 6,
   "id": "8a2674e7-657e-4321-ac8d-09bb679d618a",
   "metadata": {},
   "outputs": [
    {
     "data": {
      "text/plain": [
       "numpy.ndarray"
      ]
     },
     "execution_count": 6,
     "metadata": {},
     "output_type": "execute_result"
    }
   ],
   "source": [
    "type(ser)"
   ]
  },
  {
   "cell_type": "code",
   "execution_count": 7,
   "id": "38d0c64a-555b-4bd1-b9d5-62ddf447f705",
   "metadata": {},
   "outputs": [
    {
     "data": {
      "text/plain": [
       "618"
      ]
     },
     "execution_count": 7,
     "metadata": {},
     "output_type": "execute_result"
    }
   ],
   "source": [
    "len(ls_sfz)\n",
    "#一共有多少人贷款？"
   ]
  },
  {
   "cell_type": "code",
   "execution_count": 8,
   "id": "9e533388-8f5a-47ad-93fb-438a635a66e7",
   "metadata": {},
   "outputs": [
    {
     "data": {
      "text/plain": [
       "'C:\\\\lishan\\\\venv_and_code\\\\lcbt2024\\\\code'"
      ]
     },
     "execution_count": 8,
     "metadata": {},
     "output_type": "execute_result"
    }
   ],
   "source": [
    "os.getcwd()"
   ]
  },
  {
   "cell_type": "code",
   "execution_count": 9,
   "id": "9d44f8af-85c6-44b2-93be-10fa61cb053d",
   "metadata": {},
   "outputs": [
    {
     "name": "stdout",
     "output_type": "stream",
     "text": [
      "['202212即期.xlsx', '202301即期.xlsx', '202302即期.xlsx', '202303即期.xlsx', '202304即期.xlsx', '202305即期.xlsx', '202306即期.xlsx', '202307即期.xlsx', '202308即期.xlsx', '202309即期.xlsx', '202310即期.xlsx', '202311即期.xlsx', '2023年度个贷业务利差补贴明细表.xlsx', 'output', '利差程序逻辑.txt', '处理结果.xlsx']\n"
     ]
    }
   ],
   "source": [
    "dir_list = os.listdir('C:\\\\lishan\\\\venv_and_code\\\\lcbt2024\\\\data')\n",
    "print(dir_list)\n",
    "#获取指定目录下的所有文件和文件夹"
   ]
  },
  {
   "cell_type": "code",
   "execution_count": 10,
   "id": "0eefe94e-f6a8-49cf-af41-0a4c5c408481",
   "metadata": {},
   "outputs": [],
   "source": [
    "sfzhm=ls_sfz[0]"
   ]
  },
  {
   "cell_type": "code",
   "execution_count": 11,
   "id": "0e1355a4-d475-4be2-afc1-2c7b93c07d5d",
   "metadata": {},
   "outputs": [
    {
     "data": {
      "text/plain": [
       "'542123199006015413'"
      ]
     },
     "execution_count": 11,
     "metadata": {},
     "output_type": "execute_result"
    }
   ],
   "source": [
    "sfzhm"
   ]
  },
  {
   "cell_type": "code",
   "execution_count": 12,
   "id": "a44b32d8-a92b-40b2-8ee1-0a8644fe9aa0",
   "metadata": {},
   "outputs": [],
   "source": [
    "tf=df_sfz[\"客户身份证号码\"]==sfzhm"
   ]
  },
  {
   "cell_type": "code",
   "execution_count": 13,
   "id": "8087990f-75e8-4b88-b97b-3f46788d11e2",
   "metadata": {},
   "outputs": [
    {
     "data": {
      "text/plain": [
       "0       True\n",
       "1      False\n",
       "2      False\n",
       "3      False\n",
       "4      False\n",
       "       ...  \n",
       "678    False\n",
       "679    False\n",
       "680    False\n",
       "681    False\n",
       "682    False\n",
       "Name: 客户身份证号码, Length: 683, dtype: bool"
      ]
     },
     "execution_count": 13,
     "metadata": {},
     "output_type": "execute_result"
    }
   ],
   "source": [
    "tf"
   ]
  },
  {
   "cell_type": "code",
   "execution_count": 14,
   "id": "6b36a525-9ab7-423c-b625-3ccdd146bda6",
   "metadata": {},
   "outputs": [],
   "source": [
    "df_sfz2=df_sfz.loc[tf==True,:]"
   ]
  },
  {
   "cell_type": "code",
   "execution_count": 15,
   "id": "5d482293-c223-4664-a269-8b5f01845c2f",
   "metadata": {},
   "outputs": [
    {
     "data": {
      "text/plain": [
       "(1, 28)"
      ]
     },
     "execution_count": 15,
     "metadata": {},
     "output_type": "execute_result"
    }
   ],
   "source": [
    "df_sfz2.shape"
   ]
  },
  {
   "cell_type": "code",
   "execution_count": 16,
   "id": "8238d226-8b98-4222-bd7e-ea708bbf3d75",
   "metadata": {},
   "outputs": [],
   "source": [
    "#for sfzhm in ls_sfz:\n",
    "#    tf=df_sfz[\"客户身份证号码\"]==sfzhm\n",
    "#    df_sfz2=df_sfz.loc[tf==True,:]\n",
    "#    with pd.ExcelWriter(\"C:\\\\lishan\\\\venv_and_code\\\\lcbt2024\\\\data\\\\output\\\\split\\\\{}.xlsx\".format(sfzhm)) as writer:\n",
    "#        df_sfz2.to_excel(writer, sheet_name=\"身份证号码\",startrow=0, startcol=0, index=True, header=True,na_rep=\"<NA>\", inf_rep=\"<INF>\")\n",
    "#构造创建文件的路径，使用变量创建文件,特别注意format方法的使用"
   ]
  },
  {
   "cell_type": "code",
   "execution_count": 17,
   "id": "3e83dc54-1f2c-4416-991a-7e2bce103a17",
   "metadata": {},
   "outputs": [],
   "source": [
    "for sfzhm in ls_sfz:\n",
    "    tf=df_sfz[\"客户身份证号码\"]==sfzhm\n",
    "    df_sfz2=df_sfz.loc[tf==True,:]"
   ]
  },
  {
   "cell_type": "code",
   "execution_count": 18,
   "id": "fa476b14-60f0-4c78-90de-1e2150b406b2",
   "metadata": {},
   "outputs": [
    {
     "data": {
      "text/plain": [
       "Index(['合同号', '客户身份证号码', '客户姓名名称', '贷款业务品种', '贷款发放额度', '户籍所在地', '户籍地址',\n",
       "       '利率浮动值', '是否执行先收后返', '贷款执行利率', '2022年12月末', '2023年1月末', '2023年2月末',\n",
       "       '2023年3月末', '2023年4月末', '2023年5月末', '2023年6月末', '2023年7月末', '2023年8月末',\n",
       "       '2023年9月末', '2023年10月末', '2023年11月末', '2023年12月末', '全年贷款平均余额',\n",
       "       '上年度的贷款利差补贴', '实际获得金额', '贷款品种五级', '额度合同号'],\n",
       "      dtype='object')"
      ]
     },
     "execution_count": 18,
     "metadata": {},
     "output_type": "execute_result"
    }
   ],
   "source": [
    "df_sfz2.columns"
   ]
  },
  {
   "cell_type": "code",
   "execution_count": 19,
   "id": "22652ae8-9eaa-4122-bf3c-31119dc7b627",
   "metadata": {},
   "outputs": [],
   "source": [
    "df_sfz2=df_sfz2.T"
   ]
  },
  {
   "cell_type": "code",
   "execution_count": 20,
   "id": "8cd1913f-5f99-423b-827d-7aace0dab790",
   "metadata": {},
   "outputs": [],
   "source": [
    "df_sfz2=df_sfz2.reindex(['客户身份证号码', '合同号',  '客户姓名名称', '贷款业务品种', '贷款发放额度', '户籍所在地', '户籍地址',\n",
    "       '利率浮动值', '是否执行先收后返', '贷款执行利率', '2022年12月末', '2023年1月末', '2023年2月末',\n",
    "       '2023年3月末', '2023年4月末', '2023年5月末', '2023年6月末', '2023年7月末', '2023年8月末',\n",
    "       '2023年9月末', '2023年10月末', '2023年11月末', '2023年12月末', '全年贷款平均余额',\n",
    "       '上年度的贷款利差补贴', '实际获得金额', '贷款品种五级', '额度合同号'])"
   ]
  },
  {
   "cell_type": "code",
   "execution_count": 21,
   "id": "29daa4b7-cbe7-446d-a491-4325c1baf7e4",
   "metadata": {},
   "outputs": [],
   "source": [
    "tuple_indivi=df_sfz2.shape"
   ]
  },
  {
   "cell_type": "code",
   "execution_count": 22,
   "id": "77707b46-22b0-4501-bfef-ac180c92562c",
   "metadata": {},
   "outputs": [
    {
     "data": {
      "text/plain": [
       "(28, 1)"
      ]
     },
     "execution_count": 22,
     "metadata": {},
     "output_type": "execute_result"
    }
   ],
   "source": [
    "tuple_indivi"
   ]
  },
  {
   "cell_type": "code",
   "execution_count": 23,
   "id": "82ad54eb-1c3c-43f4-8d77-09296dc8a17a",
   "metadata": {},
   "outputs": [
    {
     "data": {
      "text/plain": [
       "1"
      ]
     },
     "execution_count": 23,
     "metadata": {},
     "output_type": "execute_result"
    }
   ],
   "source": [
    "tuple_indivi[1]"
   ]
  },
  {
   "cell_type": "code",
   "execution_count": 24,
   "id": "0129246e-d2b9-4415-bfff-bb8c081f5e32",
   "metadata": {},
   "outputs": [
    {
     "ename": "TypeError",
     "evalue": "'int' object is not iterable",
     "output_type": "error",
     "traceback": [
      "\u001b[1;31m---------------------------------------------------------------------------\u001b[0m",
      "\u001b[1;31mTypeError\u001b[0m                                 Traceback (most recent call last)",
      "Cell \u001b[1;32mIn[24], line 7\u001b[0m\n\u001b[0;32m      5\u001b[0m \u001b[38;5;28;01mfor\u001b[39;00m row \u001b[38;5;129;01min\u001b[39;00m \u001b[38;5;28mrange\u001b[39m(tuple_indivi[\u001b[38;5;241m0\u001b[39m]):\n\u001b[0;32m      6\u001b[0m     dict_hb\u001b[38;5;241m.\u001b[39mclear()\n\u001b[1;32m----> 7\u001b[0m \u001b[43m    \u001b[49m\u001b[38;5;28;43;01mfor\u001b[39;49;00m\u001b[43m \u001b[49m\u001b[43mcol\u001b[49m\u001b[43m \u001b[49m\u001b[38;5;129;43;01min\u001b[39;49;00m\u001b[43m \u001b[49m\u001b[43mtuple_indivi\u001b[49m\u001b[43m[\u001b[49m\u001b[38;5;241;43m1\u001b[39;49m\u001b[43m]\u001b[49m\u001b[43m:\u001b[49m\n\u001b[0;32m      8\u001b[0m \u001b[43m        \u001b[49m\u001b[43mdict_hb\u001b[49m\u001b[38;5;241;43m.\u001b[39;49m\u001b[43madd\u001b[49m\u001b[43m(\u001b[49m\u001b[43mdf_sfz2\u001b[49m\u001b[38;5;241;43m.\u001b[39;49m\u001b[43miloc\u001b[49m\u001b[43m[\u001b[49m\u001b[43mrow\u001b[49m\u001b[43m,\u001b[49m\u001b[43mcol\u001b[49m\u001b[43m]\u001b[49m\u001b[43m)\u001b[49m\n\u001b[0;32m      9\u001b[0m     ls_hb\u001b[38;5;241m=\u001b[39m\u001b[38;5;28mlist\u001b[39m(dict_hb)\n",
      "\u001b[1;31mTypeError\u001b[0m: 'int' object is not iterable"
     ]
    }
   ],
   "source": [
    "if tuple_indivi[1]>=1:\n",
    "    df_sfz2[\"合并\"]=\"NaN\"  #添加一个新的列用于存放每行合并后的数据\n",
    "    dict_hb=set()\n",
    "    sum=0\n",
    "    for row in range(tuple_indivi[0]):\n",
    "        dict_hb.clear()\n",
    "        for col in tuple_indivi[1]:\n",
    "            dict_hb.add(df_sfz2.iloc[row,col])\n",
    "        ls_hb=list(dict_hb)\n",
    "        str_hb=str(ls_hb)\n",
    "        col_end=tuple_indivi[1]-1\n",
    "        df_sfz2.iloc[row,end]=str_hb \n",
    "#将每行的元素都放入一个集合中，再将集合转换为字符串写入对应的“合并”单元格中。"
   ]
  },
  {
   "cell_type": "code",
   "execution_count": null,
   "id": "2c5eccfb-544a-4a21-ab32-2ab26091c2c1",
   "metadata": {},
   "outputs": [],
   "source": [
    "df_sfz2"
   ]
  },
  {
   "cell_type": "code",
   "execution_count": null,
   "id": "b016fd4d-c857-4ad3-a5d0-a6e5b8999886",
   "metadata": {},
   "outputs": [],
   "source": [
    "df_sfz2"
   ]
  },
  {
   "cell_type": "code",
   "execution_count": null,
   "id": "0393ddd9-076f-4625-90f8-3d9b380459bb",
   "metadata": {},
   "outputs": [],
   "source": [
    "df_sfz2.columns"
   ]
  },
  {
   "cell_type": "code",
   "execution_count": null,
   "id": "792fc830-7782-41ec-b645-1540f8dc0d3e",
   "metadata": {},
   "outputs": [],
   "source": [
    "df_sfz2.loc[\"客户身份证号码\",\"合并\"]=df_sfz2.iloc[0,0]"
   ]
  },
  {
   "cell_type": "code",
   "execution_count": null,
   "id": "ea46538d-72a0-449f-9cfb-6230571de8d7",
   "metadata": {},
   "outputs": [],
   "source": [
    "df_sfz2"
   ]
  },
  {
   "cell_type": "code",
   "execution_count": null,
   "id": "0fc96f65-8ac3-43e7-a02d-7daf4608cecc",
   "metadata": {},
   "outputs": [],
   "source": [
    "dict_hb=set()\n",
    "sum=0\n",
    "for row in range(tuple_indivi[0]):\n",
    "    dict_hb.clear()\n",
    "    for col in tuple_indivi[1]:\n",
    "        dict_hb.add(df_sfz2.iloc[row,col])\n",
    "    ls_hb=list(dict_hb)\n",
    "    str_hb=str(ls_hb)\n",
    "    col_end=tuple_indivi[1]-1\n",
    "    df_sfz2.iloc[row,end]=str_hb     "
   ]
  },
  {
   "cell_type": "code",
   "execution_count": 25,
   "id": "a24a0f07-2c25-4dd8-89a3-2762b84683e1",
   "metadata": {},
   "outputs": [
    {
     "data": {
      "text/html": [
       "<div>\n",
       "<style scoped>\n",
       "    .dataframe tbody tr th:only-of-type {\n",
       "        vertical-align: middle;\n",
       "    }\n",
       "\n",
       "    .dataframe tbody tr th {\n",
       "        vertical-align: top;\n",
       "    }\n",
       "\n",
       "    .dataframe thead th {\n",
       "        text-align: right;\n",
       "    }\n",
       "</style>\n",
       "<table border=\"1\" class=\"dataframe\">\n",
       "  <thead>\n",
       "    <tr style=\"text-align: right;\">\n",
       "      <th></th>\n",
       "      <th>681</th>\n",
       "      <th>合并</th>\n",
       "    </tr>\n",
       "  </thead>\n",
       "  <tbody>\n",
       "    <tr>\n",
       "      <th>客户身份证号码</th>\n",
       "      <td>612327197503270015</td>\n",
       "      <td>NaN</td>\n",
       "    </tr>\n",
       "    <tr>\n",
       "      <th>合同号</th>\n",
       "      <td>702000002501000</td>\n",
       "      <td>NaN</td>\n",
       "    </tr>\n",
       "    <tr>\n",
       "      <th>客户姓名名称</th>\n",
       "      <td>任照华</td>\n",
       "      <td>NaN</td>\n",
       "    </tr>\n",
       "    <tr>\n",
       "      <th>贷款业务品种</th>\n",
       "      <td>个人消费类贷款</td>\n",
       "      <td>NaN</td>\n",
       "    </tr>\n",
       "    <tr>\n",
       "      <th>贷款发放额度</th>\n",
       "      <td>1000000</td>\n",
       "      <td>NaN</td>\n",
       "    </tr>\n",
       "    <tr>\n",
       "      <th>户籍所在地</th>\n",
       "      <td>陕西省汉中市略阳县</td>\n",
       "      <td>NaN</td>\n",
       "    </tr>\n",
       "    <tr>\n",
       "      <th>户籍地址</th>\n",
       "      <td>陕西省略阳县高台路3号2号楼2单元3楼1号</td>\n",
       "      <td>NaN</td>\n",
       "    </tr>\n",
       "    <tr>\n",
       "      <th>利率浮动值</th>\n",
       "      <td>-1.6</td>\n",
       "      <td>NaN</td>\n",
       "    </tr>\n",
       "    <tr>\n",
       "      <th>是否执行先收后返</th>\n",
       "      <td>否</td>\n",
       "      <td>NaN</td>\n",
       "    </tr>\n",
       "    <tr>\n",
       "      <th>贷款执行利率</th>\n",
       "      <td>2.25</td>\n",
       "      <td>NaN</td>\n",
       "    </tr>\n",
       "    <tr>\n",
       "      <th>2022年12月末</th>\n",
       "      <td>800000</td>\n",
       "      <td>NaN</td>\n",
       "    </tr>\n",
       "    <tr>\n",
       "      <th>2023年1月末</th>\n",
       "      <td>800000</td>\n",
       "      <td>NaN</td>\n",
       "    </tr>\n",
       "    <tr>\n",
       "      <th>2023年2月末</th>\n",
       "      <td>800000</td>\n",
       "      <td>NaN</td>\n",
       "    </tr>\n",
       "    <tr>\n",
       "      <th>2023年3月末</th>\n",
       "      <td>800000</td>\n",
       "      <td>NaN</td>\n",
       "    </tr>\n",
       "    <tr>\n",
       "      <th>2023年4月末</th>\n",
       "      <td>800000</td>\n",
       "      <td>NaN</td>\n",
       "    </tr>\n",
       "    <tr>\n",
       "      <th>2023年5月末</th>\n",
       "      <td>700000</td>\n",
       "      <td>NaN</td>\n",
       "    </tr>\n",
       "    <tr>\n",
       "      <th>2023年6月末</th>\n",
       "      <td>700000</td>\n",
       "      <td>NaN</td>\n",
       "    </tr>\n",
       "    <tr>\n",
       "      <th>2023年7月末</th>\n",
       "      <td>700000</td>\n",
       "      <td>NaN</td>\n",
       "    </tr>\n",
       "    <tr>\n",
       "      <th>2023年8月末</th>\n",
       "      <td>700000</td>\n",
       "      <td>NaN</td>\n",
       "    </tr>\n",
       "    <tr>\n",
       "      <th>2023年9月末</th>\n",
       "      <td>700000</td>\n",
       "      <td>NaN</td>\n",
       "    </tr>\n",
       "    <tr>\n",
       "      <th>2023年10月末</th>\n",
       "      <td>700000</td>\n",
       "      <td>NaN</td>\n",
       "    </tr>\n",
       "    <tr>\n",
       "      <th>2023年11月末</th>\n",
       "      <td>700000</td>\n",
       "      <td>NaN</td>\n",
       "    </tr>\n",
       "    <tr>\n",
       "      <th>2023年12月末</th>\n",
       "      <td>0</td>\n",
       "      <td>NaN</td>\n",
       "    </tr>\n",
       "    <tr>\n",
       "      <th>全年贷款平均余额</th>\n",
       "      <td>708333.333333</td>\n",
       "      <td>NaN</td>\n",
       "    </tr>\n",
       "    <tr>\n",
       "      <th>上年度的贷款利差补贴</th>\n",
       "      <td>14166.666667</td>\n",
       "      <td>NaN</td>\n",
       "    </tr>\n",
       "    <tr>\n",
       "      <th>实际获得金额</th>\n",
       "      <td>14166.666667</td>\n",
       "      <td>NaN</td>\n",
       "    </tr>\n",
       "    <tr>\n",
       "      <th>贷款品种五级</th>\n",
       "      <td>大额耐用消费品贷款（中期）</td>\n",
       "      <td>NaN</td>\n",
       "    </tr>\n",
       "    <tr>\n",
       "      <th>额度合同号</th>\n",
       "      <td>NaN</td>\n",
       "      <td>NaN</td>\n",
       "    </tr>\n",
       "  </tbody>\n",
       "</table>\n",
       "</div>"
      ],
      "text/plain": [
       "                              681   合并\n",
       "客户身份证号码        612327197503270015  NaN\n",
       "合同号               702000002501000  NaN\n",
       "客户姓名名称                        任照华  NaN\n",
       "贷款业务品种                    个人消费类贷款  NaN\n",
       "贷款发放额度                    1000000  NaN\n",
       "户籍所在地                   陕西省汉中市略阳县  NaN\n",
       "户籍地址        陕西省略阳县高台路3号2号楼2单元3楼1号  NaN\n",
       "利率浮动值                        -1.6  NaN\n",
       "是否执行先收后返                        否  NaN\n",
       "贷款执行利率                       2.25  NaN\n",
       "2022年12月末                  800000  NaN\n",
       "2023年1月末                   800000  NaN\n",
       "2023年2月末                   800000  NaN\n",
       "2023年3月末                   800000  NaN\n",
       "2023年4月末                   800000  NaN\n",
       "2023年5月末                   700000  NaN\n",
       "2023年6月末                   700000  NaN\n",
       "2023年7月末                   700000  NaN\n",
       "2023年8月末                   700000  NaN\n",
       "2023年9月末                   700000  NaN\n",
       "2023年10月末                  700000  NaN\n",
       "2023年11月末                  700000  NaN\n",
       "2023年12月末                       0  NaN\n",
       "全年贷款平均余额            708333.333333  NaN\n",
       "上年度的贷款利差补贴           14166.666667  NaN\n",
       "实际获得金额               14166.666667  NaN\n",
       "贷款品种五级              大额耐用消费品贷款（中期）  NaN\n",
       "额度合同号                         NaN  NaN"
      ]
     },
     "execution_count": 25,
     "metadata": {},
     "output_type": "execute_result"
    }
   ],
   "source": [
    "df_sfz2"
   ]
  },
  {
   "cell_type": "code",
   "execution_count": null,
   "id": "bfc33542-ee38-4dd5-8573-d16b94cb74ca",
   "metadata": {},
   "outputs": [],
   "source": []
  }
 ],
 "metadata": {
  "kernelspec": {
   "display_name": "Python 3 (ipykernel)",
   "language": "python",
   "name": "python3"
  },
  "language_info": {
   "codemirror_mode": {
    "name": "ipython",
    "version": 3
   },
   "file_extension": ".py",
   "mimetype": "text/x-python",
   "name": "python",
   "nbconvert_exporter": "python",
   "pygments_lexer": "ipython3",
   "version": "3.11.7"
  }
 },
 "nbformat": 4,
 "nbformat_minor": 5
}
