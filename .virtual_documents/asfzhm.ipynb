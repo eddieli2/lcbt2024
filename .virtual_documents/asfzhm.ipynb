import pandas as pd


df_sfz=pd.read_excel("C:\\lishan\\venv_and_code\\lcbt2024\\data\\处理结果.xlsx",dtype=object)


df_sfz


df_sfz_list=df_sfz.values.tolist()


df_sfz_list


df_sfz_list[0]



