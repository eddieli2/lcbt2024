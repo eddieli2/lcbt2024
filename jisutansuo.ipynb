{
 "cells": [
  {
   "cell_type": "code",
   "execution_count": 1,
   "id": "14164a1a-0323-4073-8b48-9ac95e021eac",
   "metadata": {},
   "outputs": [],
   "source": [
    "ls=[\"wo\",\"shi\",\"li\",\"shan\"]"
   ]
  },
  {
   "cell_type": "code",
   "execution_count": 2,
   "id": "8a452ff3-cdff-4abd-bc5d-384768eed945",
   "metadata": {},
   "outputs": [
    {
     "data": {
      "text/plain": [
       "['wo', 'shi', 'li', 'shan']"
      ]
     },
     "execution_count": 2,
     "metadata": {},
     "output_type": "execute_result"
    }
   ],
   "source": [
    "ls"
   ]
  },
  {
   "cell_type": "code",
   "execution_count": 3,
   "id": "b80d3896-cca3-41bf-82c5-0c29f09fb932",
   "metadata": {},
   "outputs": [],
   "source": [
    "ls_str=\",\".join(ls)"
   ]
  },
  {
   "cell_type": "code",
   "execution_count": 4,
   "id": "feb5db9c-bba6-4f85-8441-a8a8a09eb64e",
   "metadata": {},
   "outputs": [
    {
     "data": {
      "text/plain": [
       "'wo,shi,li,shan'"
      ]
     },
     "execution_count": 4,
     "metadata": {},
     "output_type": "execute_result"
    }
   ],
   "source": [
    "ls_str"
   ]
  },
  {
   "cell_type": "code",
   "execution_count": null,
   "id": "bc831659-ba78-429c-93f6-c9633279aaf8",
   "metadata": {},
   "outputs": [],
   "source": []
  }
 ],
 "metadata": {
  "kernelspec": {
   "display_name": "Python 3 (ipykernel)",
   "language": "python",
   "name": "python3"
  },
  "language_info": {
   "codemirror_mode": {
    "name": "ipython",
    "version": 3
   },
   "file_extension": ".py",
   "mimetype": "text/x-python",
   "name": "python",
   "nbconvert_exporter": "python",
   "pygments_lexer": "ipython3",
   "version": "3.11.7"
  }
 },
 "nbformat": 4,
 "nbformat_minor": 5
}
