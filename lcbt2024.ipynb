{
 "cells": [
  {
   "cell_type": "code",
   "execution_count": null,
   "id": "60ed0cd8-192a-4bfc-9c4d-559897bdb6c2",
   "metadata": {},
   "outputs": [],
   "source": [
    "3+4"
   ]
  },
  {
   "cell_type": "markdown",
   "id": "2564c945-f5cb-48f9-8d00-764469302fb6",
   "metadata": {},
   "source": [
    "# 这是一级标题\r\n",
    "## 这是二级标题\r\n",
    "你可以让你的文本变成*斜体*、**粗体**或`等宽字体`\r\n",
    "* 这是项目符号\r\n",
    "* 又一个项目符号"
   ]
  },
  {
   "cell_type": "code",
   "execution_count": null,
   "id": "b87f0042-c85c-472a-9047-569e1900b4da",
   "metadata": {},
   "outputs": [],
   "source": [
    "a=1"
   ]
  },
  {
   "cell_type": "code",
   "execution_count": null,
   "id": "0d644850-02ca-46b2-a7e8-be25a2e745e2",
   "metadata": {},
   "outputs": [],
   "source": [
    "a"
   ]
  },
  {
   "cell_type": "code",
   "execution_count": null,
   "id": "8b14dfc2-aee5-43ff-a27d-cd93090fcdd0",
   "metadata": {},
   "outputs": [],
   "source": [
    "a=2"
   ]
  },
  {
   "cell_type": "markdown",
   "id": "0b08bb5e-7dd1-43f4-820a-732ef5e8d49f",
   "metadata": {},
   "source": [
    "## 程序功能\r\n",
    "\n",
    "\n",
    "* 将12月的数据中的合同号填入df_mb,12月的合同号不会出现重复的情况\n",
    "\r\n",
    "* 将每个合同号对应的各月的数据填入df_mb\r\n",
    "\n",
    "* 先做出基于合同号的表格，再在这个基础上进行身份号字段的合并"
   ]
  },
  {
   "cell_type": "code",
   "execution_count": null,
   "id": "ff43e206-f19f-4b75-89eb-bdae9b880032",
   "metadata": {},
   "outputs": [],
   "source": [
    "import pandas as pd"
   ]
  },
  {
   "cell_type": "code",
   "execution_count": null,
   "id": "8137dc81-1340-487b-b836-81eb0d804942",
   "metadata": {},
   "outputs": [],
   "source": [
    "import openpyxl"
   ]
  },
  {
   "cell_type": "code",
   "execution_count": null,
   "id": "8a1a5734-b328-4a37-8852-c4bb0be584b0",
   "metadata": {},
   "outputs": [],
   "source": [
    "df_202212=pd.read_excel(\"202212即期.xlsx\",dtype=object)"
   ]
  },
  {
   "cell_type": "markdown",
   "id": "88b5da16-974c-44b3-8f0a-dbf710efa83e",
   "metadata": {},
   "source": [
    "dtype:Type name or dict of column -> type, default None\r\n",
    "\r\n",
    "Data type for data or columns. E.g. {‘a’: np.float64, ‘b’: np.int3\r\n",
    " Us e *ob jet* to preserve data as stored in Excel and not interpret dtye\r\n",
    " If converters are specified, they will be applied INSTEAD of dtype conversion.."
   ]
  },
  {
   "cell_type": "code",
   "execution_count": null,
   "id": "ca8188cf-0ff4-4a4e-ae93-0c284685cfa7",
   "metadata": {},
   "outputs": [],
   "source": [
    "df_202212"
   ]
  },
  {
   "cell_type": "code",
   "execution_count": null,
   "id": "5548171a-8fb8-4614-bdad-a632349ca5a1",
   "metadata": {},
   "outputs": [],
   "source": [
    "df_202212.dtypes"
   ]
  },
  {
   "cell_type": "code",
   "execution_count": null,
   "id": "0b83a561-4c6d-4271-bc1c-1d52aa73a2ba",
   "metadata": {},
   "outputs": [],
   "source": [
    "df_202301=pd.read_excel(\"202301即期.xlsx\",dtype=object)"
   ]
  },
  {
   "cell_type": "code",
   "execution_count": null,
   "id": "8c424208-b0e1-4d79-b653-10b3ccf83dd7",
   "metadata": {},
   "outputs": [],
   "source": [
    "df_202301"
   ]
  },
  {
   "cell_type": "code",
   "execution_count": null,
   "id": "6d0f6bd5-4e53-4f77-9346-66de6cc5c789",
   "metadata": {},
   "outputs": [],
   "source": [
    "df_202302=pd.read_excel(\"202302即期.xlsx\",dtype=object)"
   ]
  },
  {
   "cell_type": "code",
   "execution_count": null,
   "id": "e2487c1d-2619-4ae0-a10b-b5aa9aeb13ab",
   "metadata": {},
   "outputs": [],
   "source": [
    "df_202302"
   ]
  },
  {
   "cell_type": "code",
   "execution_count": null,
   "id": "3bb2fdcc-f7e0-41d9-bf90-af7bc0dc7420",
   "metadata": {},
   "outputs": [],
   "source": [
    "df_202303=pd.read_excel(\"202303即期.xlsx\",dtype=object)"
   ]
  },
  {
   "cell_type": "code",
   "execution_count": null,
   "id": "64b465f5-a345-47c7-8837-9cf445f1001c",
   "metadata": {},
   "outputs": [],
   "source": [
    "df_202303"
   ]
  },
  {
   "cell_type": "code",
   "execution_count": null,
   "id": "3b9e8261-4cf8-4d14-aef1-68fc3bb113e3",
   "metadata": {},
   "outputs": [],
   "source": [
    "df_202304=pd.read_excel(\"202304即期.xlsx\",dtype=object)"
   ]
  },
  {
   "cell_type": "code",
   "execution_count": null,
   "id": "32958ed9-6d06-4c49-a2c0-3b73576a74e8",
   "metadata": {},
   "outputs": [],
   "source": [
    "df_202304"
   ]
  },
  {
   "cell_type": "code",
   "execution_count": null,
   "id": "9242930e-c654-4579-935c-b76a8eadf6c2",
   "metadata": {},
   "outputs": [],
   "source": [
    "df_202305=pd.read_excel(\"202305即期.xlsx\",dtype=object)"
   ]
  },
  {
   "cell_type": "code",
   "execution_count": null,
   "id": "aacac9ba-a996-437b-ae39-c1d6c51aaabd",
   "metadata": {},
   "outputs": [],
   "source": [
    "df_202305"
   ]
  },
  {
   "cell_type": "code",
   "execution_count": null,
   "id": "d7c0acf7-fdfb-43c8-8c93-9270a4a03aa8",
   "metadata": {},
   "outputs": [],
   "source": [
    "df_202306=pd.read_excel(\"202306即期.xlsx\",dtype=object)"
   ]
  },
  {
   "cell_type": "code",
   "execution_count": null,
   "id": "865fe25c-f898-4889-855b-08eb563fd402",
   "metadata": {},
   "outputs": [],
   "source": [
    "df_202306"
   ]
  },
  {
   "cell_type": "code",
   "execution_count": null,
   "id": "ba313338-7e5b-47c6-9ade-64190df983bc",
   "metadata": {},
   "outputs": [],
   "source": [
    "df_202307=pd.read_excel(\"202307即期.xlsx\",dtype=object)"
   ]
  },
  {
   "cell_type": "code",
   "execution_count": null,
   "id": "b1b8bcd6-7f73-4bfe-b5c8-80c45a79e86b",
   "metadata": {},
   "outputs": [],
   "source": [
    "df_202307"
   ]
  },
  {
   "cell_type": "code",
   "execution_count": null,
   "id": "4d9d2170-c3cf-4ab3-a7be-6f6f451d3f2f",
   "metadata": {},
   "outputs": [],
   "source": [
    "df_202308=pd.read_excel(\"202308即期.xlsx\",dtype=object)"
   ]
  },
  {
   "cell_type": "code",
   "execution_count": null,
   "id": "5002d3a2-b2d7-4cef-979e-f1fd2f0315b1",
   "metadata": {},
   "outputs": [],
   "source": [
    "df_202308"
   ]
  },
  {
   "cell_type": "code",
   "execution_count": null,
   "id": "c5b64d7f-7a54-4562-ad21-f08559d479b5",
   "metadata": {},
   "outputs": [],
   "source": [
    "df_202309=pd.read_excel(\"202309即期.xlsx\",dtype=object)"
   ]
  },
  {
   "cell_type": "code",
   "execution_count": null,
   "id": "2ba12ec6-7000-4912-9e25-49a17db95d34",
   "metadata": {},
   "outputs": [],
   "source": [
    "df_202309"
   ]
  },
  {
   "cell_type": "code",
   "execution_count": null,
   "id": "b682ef03-ecd6-4798-a06b-48c3d68db09a",
   "metadata": {},
   "outputs": [],
   "source": [
    "df_202310=pd.read_excel(\"202310即期.xlsx\",dtype=object)"
   ]
  },
  {
   "cell_type": "code",
   "execution_count": null,
   "id": "e7a3d018-0c69-4344-b703-52aa252b10b6",
   "metadata": {},
   "outputs": [],
   "source": [
    "df_202310"
   ]
  },
  {
   "cell_type": "code",
   "execution_count": null,
   "id": "94acc548-ea85-4096-a2c1-3e92a8e3cc4b",
   "metadata": {},
   "outputs": [],
   "source": [
    "df_202311=pd.read_excel(\"202311即期.xlsx\",dtype=object)"
   ]
  },
  {
   "cell_type": "code",
   "execution_count": null,
   "id": "cfb76473-42f2-44e9-922f-b5768ba5cfb4",
   "metadata": {},
   "outputs": [],
   "source": [
    "df_202311"
   ]
  },
  {
   "cell_type": "code",
   "execution_count": null,
   "id": "086bfbe8-1e8f-4be2-88cf-67fd7d638893",
   "metadata": {},
   "outputs": [],
   "source": [
    "df_202311.info()"
   ]
  },
  {
   "cell_type": "code",
   "execution_count": null,
   "id": "b0037ac6-18a5-47e4-b715-83dd9c4f3e34",
   "metadata": {},
   "outputs": [],
   "source": [
    "type(df_202311.iloc[0,0])"
   ]
  },
  {
   "cell_type": "markdown",
   "id": "c2bef472-b2f6-491b-bc2e-2280aea1c0a4",
   "metadata": {},
   "source": [
    "可见这个日期元素也已经被转换成字符串类型的数据了。"
   ]
  },
  {
   "cell_type": "markdown",
   "id": "6de26e02-adeb-4efb-9a14-6d34ae5d7dba",
   "metadata": {},
   "source": [
    "* 获取每一列的数据类型"
   ]
  },
  {
   "cell_type": "code",
   "execution_count": null,
   "id": "b64e7c0c-bb3e-45bf-943b-2cdbe392b9c8",
   "metadata": {},
   "outputs": [],
   "source": [
    "df_202311.index"
   ]
  },
  {
   "cell_type": "markdown",
   "id": "738a708e-2544-41e3-9632-db1e82b5f195",
   "metadata": {},
   "source": [
    "## 索引\n",
    "* DataFrame的标签被称为索引（index）\n",
    "* 和数据库的主键不同，索引可以重复\n",
    "* 使用reindex()方法从df中选取一行或多行数据，参数是一个由索引构成的列表。"
   ]
  },
  {
   "cell_type": "code",
   "execution_count": null,
   "id": "22709c3b-cc48-40e2-8c12-718e37207fb1",
   "metadata": {},
   "outputs": [],
   "source": [
    "df_202311.columns"
   ]
  },
  {
   "cell_type": "code",
   "execution_count": null,
   "id": "683f1990-ada0-41eb-a123-8c89b576c1fc",
   "metadata": {},
   "outputs": [],
   "source": [
    "df_202311.T"
   ]
  },
  {
   "cell_type": "markdown",
   "id": "661e88ad-0461-4c55-a99f-fc4010597e6f",
   "metadata": {},
   "source": [
    "* 为什么上面这些表的列数不统一，有的是199列，有的是198列"
   ]
  },
  {
   "cell_type": "code",
   "execution_count": null,
   "id": "3d6ec139-3287-4b3b-a9d5-0ba017fd74b5",
   "metadata": {},
   "outputs": [],
   "source": [
    "df_mb=pd.read_excel(\"2023年度个贷业务利差补贴明细表.xlsx\")"
   ]
  },
  {
   "cell_type": "code",
   "execution_count": null,
   "id": "1fbea591-100c-440b-beb8-04c70f18c0a6",
   "metadata": {},
   "outputs": [],
   "source": [
    "df_mb"
   ]
  },
  {
   "cell_type": "markdown",
   "id": "25afca1b-281e-419d-bd8a-55f584cefff4",
   "metadata": {},
   "source": [
    "df_mb就是目标输出表格。mb就是目标的意思。"
   ]
  },
  {
   "cell_type": "code",
   "execution_count": null,
   "id": "2bd2339a-a347-4c18-81cb-e061e8c5e789",
   "metadata": {},
   "outputs": [],
   "source": [
    "df_mb[\"合同号\"]=df_202311[\"合同号\"]"
   ]
  },
  {
   "cell_type": "markdown",
   "id": "244e2046-6ccd-438f-bfca-c0519ea59c36",
   "metadata": {},
   "source": [
    "这里到时换成12月的合同号，因为当前还没有12月的数据，所以先使用11月的合同号代替12月的数据。"
   ]
  },
  {
   "cell_type": "code",
   "execution_count": null,
   "id": "77c9dcaf-2032-4658-8bcc-6fab2112400d",
   "metadata": {},
   "outputs": [],
   "source": [
    "df_mb[\"客户身份证号码\"]=df_202311[\"证件号码\"]"
   ]
  },
  {
   "cell_type": "code",
   "execution_count": null,
   "id": "c21ed026-942f-453d-b186-46dcdbac6bd3",
   "metadata": {},
   "outputs": [],
   "source": [
    "df_mb[\"客户姓名名称\"]=df_202311[\"姓名\"]"
   ]
  },
  {
   "cell_type": "code",
   "execution_count": null,
   "id": "632c049e-8458-4e7c-a9ce-56b3fd7f9613",
   "metadata": {},
   "outputs": [],
   "source": [
    "df_mb[\"贷款业务品种\"]=df_202311[\"贷款品种2级\"]"
   ]
  },
  {
   "cell_type": "code",
   "execution_count": null,
   "id": "fd149995-e47d-494c-872b-a08ab03e7d91",
   "metadata": {},
   "outputs": [],
   "source": [
    "df_mb[\"贷款发放额度\"]=df_202311[\"发放金额\"]"
   ]
  },
  {
   "cell_type": "code",
   "execution_count": null,
   "id": "1d3fb443-e47e-4c88-9be1-63593d9e45fd",
   "metadata": {},
   "outputs": [],
   "source": [
    "df_mb[\"户籍所在地\"]=df_202311[\"户籍所在地\"]"
   ]
  },
  {
   "cell_type": "code",
   "execution_count": null,
   "id": "84ad2909-229c-45e2-8e20-80249e028614",
   "metadata": {},
   "outputs": [],
   "source": [
    "df_mb[\"户籍地址\"]=df_202311[\"户籍地址\"]"
   ]
  },
  {
   "cell_type": "code",
   "execution_count": null,
   "id": "e2efaafd-7aa3-41b4-94cb-22199d90fe53",
   "metadata": {},
   "outputs": [],
   "source": [
    "df_mb[\"利率浮动值\"]=df_202311[\"利率浮动值\"]"
   ]
  },
  {
   "cell_type": "code",
   "execution_count": null,
   "id": "7ddad689-1d87-4cc3-ac78-ea07804a9c70",
   "metadata": {},
   "outputs": [],
   "source": [
    "df_mb[\"是否执行先收后返\"]=\"否\""
   ]
  },
  {
   "cell_type": "code",
   "execution_count": null,
   "id": "fcc80d03-1ec2-432f-82a0-fb4933e5433f",
   "metadata": {},
   "outputs": [],
   "source": [
    "df_mb[\"贷款执行利率\"]=df_202311[\"执行利率\"]"
   ]
  },
  {
   "cell_type": "code",
   "execution_count": null,
   "id": "34abe2e6-0821-44ab-b554-b3f95ec2392b",
   "metadata": {},
   "outputs": [],
   "source": [
    "df_mb2=df_mb.copy()\n",
    "df_mb2=df_mb2.merge(df_202212, how=\"left\", on=[\"合同号\"])\n",
    "df_mb[\"2022年12月末\"]=df_mb2[\"余额\"]\n",
    "\n",
    "df_mb2=df_mb.copy()\n",
    "df_mb2=df_mb2.merge(df_202301, how=\"left\", on=[\"合同号\"])\n",
    "df_mb[\"2023年1月末\"]=df_mb2[\"余额\"]\n",
    "\n",
    "df_mb2=df_mb.copy()\n",
    "df_mb2=df_mb2.merge(df_202302, how=\"left\", on=[\"合同号\"])\n",
    "df_mb[\"2023年2月末\"]=df_mb2[\"余额\"]\n",
    "\n",
    "df_mb2=df_mb.copy()\n",
    "df_mb2=df_mb2.merge(df_202303, how=\"left\", on=[\"合同号\"])\n",
    "df_mb[\"2023年3月末\"]=df_mb2[\"余额\"]\n",
    "\n",
    "df_mb2=df_mb.copy()\n",
    "df_mb2=df_mb2.merge(df_202304, how=\"left\", on=[\"合同号\"])\n",
    "df_mb[\"2023年4月末\"]=df_mb2[\"余额\"]\n",
    "\n",
    "df_mb2=df_mb.copy()\n",
    "df_mb2=df_mb2.merge(df_202305, how=\"left\", on=[\"合同号\"])\n",
    "df_mb[\"2023年5月末\"]=df_mb2[\"余额\"]\n",
    "\n",
    "df_mb2=df_mb.copy()\n",
    "df_mb2=df_mb2.merge(df_202306, how=\"left\", on=[\"合同号\"])\n",
    "df_mb[\"2023年6月末\"]=df_mb2[\"余额\"]\n",
    "\n",
    "df_mb2=df_mb.copy()\n",
    "df_mb2=df_mb2.merge(df_202307, how=\"left\", on=[\"合同号\"])\n",
    "df_mb[\"2023年7月末\"]=df_mb2[\"余额\"]\n",
    "\n",
    "df_mb2=df_mb.copy()\n",
    "df_mb2=df_mb2.merge(df_202308, how=\"left\", on=[\"合同号\"])\n",
    "df_mb[\"2023年8月末\"]=df_mb2[\"余额\"]\n",
    "\n",
    "df_mb2=df_mb.copy()\n",
    "df_mb2=df_mb2.merge(df_202309, how=\"left\", on=[\"合同号\"])\n",
    "df_mb[\"2023年9月末\"]=df_mb2[\"余额\"]\n",
    "\n",
    "df_mb2=df_mb.copy()\n",
    "df_mb2=df_mb2.merge(df_202310, how=\"left\", on=[\"合同号\"])\n",
    "df_mb[\"2023年10月末\"]=df_mb2[\"余额\"]\n",
    "\n",
    "df_mb2=df_mb.copy()\n",
    "df_mb2=df_mb2.merge(df_202311, how=\"left\", on=[\"合同号\"])\n",
    "df_mb[\"2023年11月末\"]=df_mb2[\"余额\"]"
   ]
  },
  {
   "cell_type": "code",
   "execution_count": null,
   "id": "fbf91294-16ee-44cd-b589-3787eed7cd1b",
   "metadata": {},
   "outputs": [],
   "source": [
    "df_mb[\"全年贷款平均余额\"]=(df_mb[\"2022年12月末\"]*0.5+df_mb[\"2023年1月末\"]+df_mb[\"2023年2月末\"]+df_mb[\"2023年3月末\"]+df_mb[\"2023年4月末\"]+\\\n",
    "df_mb[\"2023年5月末\"]+df_mb[\"2023年6月末\"]+df_mb[\"2023年7月末\"]+df_mb[\"2023年8月末\"]+df_mb[\"2023年9月末\"]+df_mb[\"2023年10月末\"]+df_mb[\"2023年11月末\"]+\\\n",
    "df_mb[\"2023年12月末\"]*0.5)/12"
   ]
  },
  {
   "cell_type": "markdown",
   "id": "2bf33fb0-0096-4c09-990c-2d6d3541a736",
   "metadata": {},
   "source": [
    "计算全年平均余额的公式"
   ]
  },
  {
   "cell_type": "code",
   "execution_count": null,
   "id": "b287359c-f69b-4e7b-b18d-84706098169b",
   "metadata": {},
   "outputs": [],
   "source": [
    "df_mb[\"上年度的贷款利差补贴\"]=df_mb[\"全年贷款平均余额\"]*0.02"
   ]
  },
  {
   "cell_type": "code",
   "execution_count": null,
   "id": "53fde5d8-e070-4224-8265-d632eae65ad6",
   "metadata": {},
   "outputs": [],
   "source": [
    "df_mb[\"实际获得金额\"]=df_mb[\"上年度的贷款利差补贴\"]"
   ]
  },
  {
   "cell_type": "code",
   "execution_count": null,
   "id": "f8c1c485-fa35-42a9-a670-e6a847d6c924",
   "metadata": {},
   "outputs": [],
   "source": [
    "df_mb[\"贷款品种五级\"]=df_202311[\"贷款品种5级\"]"
   ]
  },
  {
   "cell_type": "code",
   "execution_count": null,
   "id": "6511386f-4f8e-4918-a20e-54f90d02351f",
   "metadata": {},
   "outputs": [],
   "source": [
    "df_mb[\"额度合同号\"]=df_202311[\"对应额度合同号\"]"
   ]
  },
  {
   "cell_type": "code",
   "execution_count": 215,
   "id": "2bfd7ce5-dcb1-4af9-8f3c-20440b2f3320",
   "metadata": {},
   "outputs": [],
   "source": [
    "tf=df_202212[\"余额\"]>0\n",
    "#构造布尔series，用于从df_mb中筛选出满足特定条件行，并将其删除。"
   ]
  },
  {
   "cell_type": "code",
   "execution_count": null,
   "id": "73d35c65-da3a-4a51-958c-edba8a628899",
   "metadata": {},
   "outputs": [],
   "source": [
    "tf"
   ]
  },
  {
   "cell_type": "code",
   "execution_count": null,
   "id": "4c446e97-b516-4776-b4c5-57e3c90cabd1",
   "metadata": {},
   "outputs": [],
   "source": [
    "df_0=df_202212.loc[tf==False,:]\n",
    "#将使用布尔series筛选出的行，放在df_0中"
   ]
  },
  {
   "cell_type": "code",
   "execution_count": null,
   "id": "351c5cd8-a78a-4304-be48-4c559741ee45",
   "metadata": {},
   "outputs": [],
   "source": [
    "df_0[\"余额\"]"
   ]
  },
  {
   "cell_type": "code",
   "execution_count": null,
   "id": "eeed93ed-e282-4e64-a685-ede5c379e3b4",
   "metadata": {},
   "outputs": [],
   "source": [
    "df_0[\"合同号\"]"
   ]
  },
  {
   "cell_type": "code",
   "execution_count": null,
   "id": "936283cd-6208-4b61-b810-8158fe80ad64",
   "metadata": {},
   "outputs": [],
   "source": [
    "type(df_0[\"合同号\"])"
   ]
  },
  {
   "cell_type": "code",
   "execution_count": null,
   "id": "1e79b1e5-c6af-4eb6-83a7-57aa25625fe2",
   "metadata": {},
   "outputs": [],
   "source": [
    "ls_0=df_0[\"合同号\"].tolist()\n",
    "#将df_0的“合同号”列转化变成列表，以便删除df_mb中不要的行。"
   ]
  },
  {
   "cell_type": "code",
   "execution_count": null,
   "id": "bbcba280-9ac1-4296-942b-14b934e412ad",
   "metadata": {},
   "outputs": [],
   "source": [
    "ls"
   ]
  },
  {
   "cell_type": "code",
   "execution_count": null,
   "id": "7549bcf3-7f31-428e-8480-aa22b4aa8e63",
   "metadata": {},
   "outputs": [],
   "source": [
    "ls_0"
   ]
  },
  {
   "cell_type": "code",
   "execution_count": null,
   "id": "1c2a0763-3dec-40b6-b0f0-2e1fb18b00d2",
   "metadata": {},
   "outputs": [],
   "source": [
    "df_mb.index"
   ]
  },
  {
   "cell_type": "code",
   "execution_count": null,
   "id": "a0d275ef-1cb7-4a63-9c51-895805d1ea6a",
   "metadata": {},
   "outputs": [],
   "source": [
    "df_mb=df_mb.set_index(\"合同号\")\n",
    "df_mb.shape\n",
    "#将df_mb的合同号设置为索引，因为需要将这个索引与上面的转换出来的列表结合起来实现对特定行的删除。"
   ]
  },
  {
   "cell_type": "code",
   "execution_count": null,
   "id": "90668c70-f996-440d-93ac-cda205014bf9",
   "metadata": {},
   "outputs": [],
   "source": [
    "df_mb=df_mb.drop(index=ls_0)\n",
    "df_mb.shape"
   ]
  },
  {
   "cell_type": "code",
   "execution_count": null,
   "id": "79b52a7c-4e4d-41ee-89b5-9d2932d8e07e",
   "metadata": {},
   "outputs": [],
   "source": [
    "df_mb.reset_index()\n",
    "#将索引号还原为整数索引。"
   ]
  },
  {
   "cell_type": "code",
   "execution_count": null,
   "id": "c466fd5c-f6f8-4850-9808-72a05a83544a",
   "metadata": {},
   "outputs": [],
   "source": []
  }
 ],
 "metadata": {
  "kernelspec": {
   "display_name": "Python 3 (ipykernel)",
   "language": "python",
   "name": "python3"
  },
  "language_info": {
   "codemirror_mode": {
    "name": "ipython",
    "version": 3
   },
   "file_extension": ".py",
   "mimetype": "text/x-python",
   "name": "python",
   "nbconvert_exporter": "python",
   "pygments_lexer": "ipython3",
   "version": "3.11.7"
  }
 },
 "nbformat": 4,
 "nbformat_minor": 5
}
